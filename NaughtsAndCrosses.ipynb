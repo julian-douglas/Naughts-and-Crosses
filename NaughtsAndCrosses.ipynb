{
 "cells": [
  {
   "cell_type": "markdown",
   "metadata": {},
   "source": [
    "# Noughts and crosses\n",
    "\n"
   ]
  },
  {
   "cell_type": "code",
   "execution_count": null,
   "metadata": {},
   "outputs": [],
   "source": [
    "def print_state(state):\n",
    "    \"\"\"Prints the state.\"\"\"\n",
    "    \n",
    "    for i in range(len(state)):\n",
    "        print(state[i][0], '|', state[i][1], '|', state[i][2], sep='')\n",
    "        "
   ]
  },
  {
   "cell_type": "code",
   "execution_count": null,
   "metadata": {},
   "outputs": [],
   "source": [
    "def score_end(state):\n",
    "    \"\"\"Scores the game state if the game has ended, otherwise returns None.\"\"\"\n",
    "        \n",
    "    if  state[0] == ('x','x','x')\\\n",
    "    or  state[1] == ('x','x','x')\\\n",
    "    or  state[2] == ('x','x','x')\\\n",
    "    or (state[0][0] == 'x' and state[1][0] == 'x' and state[2][0] == 'x')\\\n",
    "    or (state[0][1] == 'x' and state[1][1] == 'x' and state[2][1] == 'x')\\\n",
    "    or (state[0][2] == 'x' and state[1][2] == 'x' and state[2][2] == 'x')\\\n",
    "    or (state[0][2] == 'x' and state[1][1] == 'x' and state[2][0] == 'x')\\\n",
    "    or (state[0][0] == 'x' and state[1][1] == 'x' and state[2][2] == 'x'):\n",
    "        return 1\n",
    "\n",
    "    elif state[0] == ('o','o','o')\\\n",
    "    or   state[1] == ('o','o','o')\\\n",
    "    or   state[2] == ('o','o','o')\\\n",
    "    or (state[0][0] == 'o' and state[1][0] == 'o' and state[2][0] == 'o')\\\n",
    "    or (state[0][1] == 'o' and state[1][1] == 'o' and state[2][1] == 'o')\\\n",
    "    or (state[0][2] == 'o' and state[1][2] == 'o' and state[2][2] == 'o')\\\n",
    "    or (state[0][2] == 'o' and state[1][1] == 'o' and state[2][0] == 'o')\\\n",
    "    or (state[0][0] == 'o' and state[1][1] == 'o' and state[2][2] == 'o'):\n",
    "        return -1\n",
    "\n",
    "    \n",
    "    elif ((' ' in state[0]) or (' ' in state[1]) or (' ' in state[2])):\n",
    "        return None\n",
    "    \n",
    "    else:\n",
    "        return 0\n"
   ]
  },
  {
   "cell_type": "code",
   "execution_count": null,
   "metadata": {},
   "outputs": [],
   "source": [
    "def play(state, row, col, mark):\n",
    "    \"\"\"Returns a new state after the given move has been played.\"\"\"\n",
    "    \n",
    "    start_list = [[' ',' ',' '],[' ',' ',' '],[' ',' ',' ']]\n",
    "    for i in range(len(start_list)):\n",
    "        for j in range(len(start_list[i])):\n",
    "            if j == col and i == row:\n",
    "                start_list[i][j] = mark\n",
    "            \n",
    "            else:\n",
    "                start_list[i][j] = state[i][j]\n",
    "    return tuple(tuple(sub) for sub in start_list)      \n",
    "        "
   ]
  },
  {
   "cell_type": "code",
   "execution_count": null,
   "metadata": {
    "scrolled": true
   },
   "outputs": [],
   "source": [
    "def moves(state):\n",
    "    \"\"\"Returns the list of moves that are avaliable from the current state.\"\"\"\n",
    "    \n",
    "    places_to_go=[]\n",
    "    for i in range(len(state)):\n",
    "        for j in range(len(state[i])):\n",
    "            if state[i][j] == ' ':\n",
    "                places_to_go.append((i,j))\n",
    "    return places_to_go\n"
   ]
  },
  {
   "cell_type": "code",
   "execution_count": null,
   "metadata": {},
   "outputs": [],
   "source": [
    "def input_move(move1, move2, state, mark):\n",
    "    \"\"\"Function that puts the move on the board.\"\"\"\n",
    "    \n",
    "    if 1 <= int(move1) and int(move1) <= 3 and 1 <= int(move2) and int(move2) <= 3:\n",
    "        state = play(state, move1-1, move2-1, mark)\n",
    "    return state"
   ]
  },
  {
   "cell_type": "code",
   "execution_count": null,
   "metadata": {},
   "outputs": [],
   "source": [
    "def score(state, player):\n",
    "    \"\"\"Given the game state and whose turn it is returns a tuple (estimated game score, best move to play)\"\"\"\n",
    "    \n",
    "    s = score_end(state)\n",
    "    if s is not None:\n",
    "        return s, None\n",
    "    \n",
    "    else: \n",
    "        worst_score_x = -2\n",
    "        worst_score_o = 2\n",
    "        for i,j in moves(state):\n",
    "            new_state = play(state, i, j, player)\n",
    "            estimated_score = score(new_state, player = 'x' if player == 'o' else 'o')[0]\n",
    "            \n",
    "            \n",
    "            if player == 'x':\n",
    "                if estimated_score >= worst_score_x: \n",
    "                    worst_score_x = estimated_score  \n",
    "                    move = (i,j)\n",
    "\n",
    "            else: \n",
    "                if estimated_score <= worst_score_o:\n",
    "                    worst_score_o = estimated_score \n",
    "                    move = (i,j)\n",
    "\n",
    "        if player == 'x':\n",
    "            return worst_score_x, move\n",
    "\n",
    "        elif player == 'o':\n",
    "            return worst_score_o, move\n"
   ]
  },
  {
   "cell_type": "code",
   "execution_count": null,
   "metadata": {},
   "outputs": [],
   "source": [
    "def play_game():\n",
    "    \"\"\"Function that allows the user to play against the computer.\"\"\"\n",
    "    \n",
    "    state = ((' ',' ',' '),(' ',' ',' '),(' ',' ',' '))\n",
    "    #print_state(state)\n",
    "    while score_end(state) is None:\n",
    "        player = 'x'\n",
    "        print_state(state)\n",
    "        move1 = int(input(\"Choose a row: \"))\n",
    "        move2 = int(input(\"Choose a column: \"))\n",
    "        state = input_move(move1, move2, state, player)\n",
    "        print_state(state)\n",
    "        player = 'o' if player == 'x' else 'x'\n",
    "        state = play(state, *score(state, player)[1], player)\n",
    "        print()\n",
    "        if score_end(state):\n",
    "            print_state(state)\n",
    "            print(f\"Player {player} is the winner!\")"
   ]
  },
  {
   "cell_type": "code",
   "execution_count": null,
   "metadata": {},
   "outputs": [],
   "source": [
    "play_game()"
   ]
  },
  {
   "cell_type": "code",
   "execution_count": null,
   "metadata": {},
   "outputs": [],
   "source": [
    "def automate_play():\n",
    "    \"\"\"Function that shows two computer players against each other. They draw.\"\"\"\n",
    "    \n",
    "    player = 'x'\n",
    "    state = ((' ',' ',' '),(' ',' ',' '),(' ',' ',' '))\n",
    "    while score_end(state) is None:\n",
    "        state = play(state, *score(state, player)[1], player)\n",
    "        print_state(state)\n",
    "        player = 'o' if player == 'x' else 'x'\n",
    "        print()"
   ]
  },
  {
   "cell_type": "code",
   "execution_count": null,
   "metadata": {},
   "outputs": [],
   "source": [
    "automate_play()"
   ]
  },
  {
   "cell_type": "code",
   "execution_count": null,
   "metadata": {},
   "outputs": [],
   "source": []
  }
 ],
 "metadata": {
  "kernelspec": {
   "display_name": "Python 3",
   "language": "python",
   "name": "python3"
  },
  "language_info": {
   "codemirror_mode": {
    "name": "ipython",
    "version": 3
   },
   "file_extension": ".py",
   "mimetype": "text/x-python",
   "name": "python",
   "nbconvert_exporter": "python",
   "pygments_lexer": "ipython3",
   "version": "3.8.3"
  }
 },
 "nbformat": 4,
 "nbformat_minor": 2
}
